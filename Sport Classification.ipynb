{
 "cells": [
  {
   "cell_type": "code",
   "execution_count": 1,
   "id": "c201d602",
   "metadata": {},
   "outputs": [
    {
     "name": "stdout",
     "output_type": "stream",
     "text": [
      "WARNING:tensorflow:From C:\\Users\\Jimmy\\anaconda3\\lib\\site-packages\\tensorflow\\python\\compat\\v2_compat.py:107: disable_resource_variables (from tensorflow.python.ops.variable_scope) is deprecated and will be removed in a future version.\n",
      "Instructions for updating:\n",
      "non-resource variables are not supported in the long term\n",
      "curses is not supported on this machine (please install/reinstall curses for an optimal experience)\n"
     ]
    }
   ],
   "source": [
    "import cv2\n",
    "import numpy as np\n",
    "import os\n",
    "from random import shuffle\n",
    "from tqdm import tqdm\n",
    "import tensorflow as tf\n",
    "import matplotlib.pyplot as plt\n",
    "import tflearn\n",
    "from tflearn.layers.conv import conv_2d, max_pool_2d\n",
    "from tflearn.layers.core import input_data, dropout, fully_connected\n",
    "from tflearn.layers.estimator import regression"
   ]
  },
  {
   "cell_type": "code",
   "execution_count": 2,
   "id": "119c4eef",
   "metadata": {},
   "outputs": [],
   "source": [
    "TRAIN_DIR = 'Train'\n",
    "TEST_DIR = 'Test'\n",
    "IMG_SIZE = 50\n",
    "LR = 0.001\n",
    "MODEL_NAME = 'Sport_Classification'"
   ]
  },
  {
   "cell_type": "code",
   "execution_count": 3,
   "id": "10f7e3a7",
   "metadata": {},
   "outputs": [
    {
     "data": {
      "text/plain": [
       "array(['Basketball', 'Football', 'Rowing', 'Swimming', 'Tennis', 'Yoga'],\n",
       "      dtype='<U10')"
      ]
     },
     "execution_count": 3,
     "metadata": {},
     "output_type": "execute_result"
    }
   ],
   "source": [
    "categories = [i.split('_')[0] for i in os.listdir(TRAIN_DIR)]\n",
    "categories = np.unique(np.array(categories))\n",
    "categories"
   ]
  },
  {
   "cell_type": "code",
   "execution_count": 4,
   "id": "6214775c",
   "metadata": {},
   "outputs": [],
   "source": [
    "def create_label(image_name):\n",
    "    \"\"\" Create an one-hot encoded vector from image name \"\"\"\n",
    "    word_label = image_name.split('_')[0]\n",
    "    if word_label == 'Basketball':\n",
    "        return np.array([1,0,0,0,0,0])\n",
    "    elif word_label == 'Football':\n",
    "        return np.array([0,1,0,0,0,0])\n",
    "    elif word_label == 'Rowing':\n",
    "        return np.array([0,0,1,0,0,0])\n",
    "    elif word_label == 'Swimming':\n",
    "        return np.array([0,0,0,1,0,0])\n",
    "    elif word_label == 'Tennis':\n",
    "        return np.array([0,0,0,0,1,0])\n",
    "    elif word_label == 'Yoga':\n",
    "        return np.array([0,0,0,0,0,1])\n",
    "\n",
    "def create_train_data():\n",
    "    training_data = []\n",
    "    for img in tqdm(os.listdir(TRAIN_DIR)):\n",
    "        path = os.path.join(TRAIN_DIR, img)\n",
    "        img_data = cv2.imread(path,0)\n",
    "        img_data = cv2.resize(img_data, (IMG_SIZE, IMG_SIZE))\n",
    "        training_data.append([np.array(img_data), create_label(img)])\n",
    "    shuffle(training_data)\n",
    "    np.save('train_data.npy', training_data)\n",
    "    return training_data\n",
    "\n",
    "def create_test_data():\n",
    "    testing_data=[]\n",
    "    for img in tqdm(os.listdir(TEST_DIR)):\n",
    "        path = os.path.join(TEST_DIR, img)\n",
    "        img_data = cv2.imread(path, 0)\n",
    "        img_data = cv2.resize(img_data, (IMG_SIZE, IMG_SIZE))\n",
    "        testing_data.append([np.array(img_data), create_label(img)])\n",
    "    shuffle(testing_data)\n",
    "    np.save('test_data.npy', testing_data)\n",
    "    return testing_data\n",
    "       \n",
    "class EarlyStoppingCallback(tflearn.callbacks.Callback):\n",
    "    def __init__(self, val_acc_thresh):\n",
    "        self.val_acc_thresh = val_acc_thresh\n",
    "\n",
    "    def on_epoch_end(self, training_state):\n",
    "        if training_state.val_acc is None:\n",
    "            return\n",
    "        if training_state.val_acc > self.val_acc_thresh:\n",
    "            raise StopIteration"
   ]
  },
  {
   "cell_type": "code",
   "execution_count": 5,
   "id": "7df75ea0",
   "metadata": {},
   "outputs": [
    {
     "data": {
      "text/plain": [
       "(1681, 2)"
      ]
     },
     "execution_count": 5,
     "metadata": {},
     "output_type": "execute_result"
    }
   ],
   "source": [
    "if (os.path.exists('train_data.npy')): # If you have already created the dataset:\n",
    "    train_data =np.load('train_data.npy',allow_pickle=True)\n",
    "else: # If dataset is not created:\n",
    "    train_data = create_train_data()\n",
    "    \n",
    "train_data.shape"
   ]
  },
  {
   "cell_type": "code",
   "execution_count": 6,
   "id": "16165d66",
   "metadata": {},
   "outputs": [
    {
     "data": {
      "text/plain": [
       "(688, 2)"
      ]
     },
     "execution_count": 6,
     "metadata": {},
     "output_type": "execute_result"
    }
   ],
   "source": [
    "if (os.path.exists('test_data.npy')):\n",
    "    test_data =np.load('test_data.npy',allow_pickle=True)\n",
    "else:\n",
    "    test_data = create_test_data()\n",
    "\n",
    "test_data.shape"
   ]
  },
  {
   "cell_type": "code",
   "execution_count": 7,
   "id": "b506917b",
   "metadata": {},
   "outputs": [],
   "source": [
    "train = train_data\n",
    "test = test_data\n",
    "X_train = np.array([i[0] for i in train]).reshape(-1, IMG_SIZE, IMG_SIZE, 1)\n",
    "y_train = np.array([i[1] for i in train]).reshape(-1,6)\n",
    "\n",
    "\n",
    "X_test = np.array([i[0] for i in test]).reshape(-1, IMG_SIZE, IMG_SIZE, 1)\n",
    "y_test = np.array([i[1] for i in train]).reshape(-1,6)"
   ]
  },
  {
   "cell_type": "code",
   "execution_count": 8,
   "id": "3413f512",
   "metadata": {},
   "outputs": [
    {
     "name": "stdout",
     "output_type": "stream",
     "text": [
      "WARNING:tensorflow:From C:\\Users\\Jimmy\\anaconda3\\lib\\site-packages\\tflearn\\initializations.py:110: calling UniformUnitScaling.__init__ (from tensorflow.python.ops.init_ops) with dtype is deprecated and will be removed in a future version.\n",
      "Instructions for updating:\n",
      "Call initializer instance with the dtype argument instead of passing it to the constructor\n",
      "WARNING:tensorflow:From C:\\Users\\Jimmy\\anaconda3\\lib\\site-packages\\tensorflow\\python\\util\\deprecation.py:561: UniformUnitScaling.__init__ (from tensorflow.python.ops.init_ops) is deprecated and will be removed in a future version.\n",
      "Instructions for updating:\n",
      "Use tf.initializers.variance_scaling instead with distribution=uniform to get equivalent behavior.\n",
      "WARNING:tensorflow:From C:\\Users\\Jimmy\\anaconda3\\lib\\site-packages\\tflearn\\initializations.py:164: calling TruncatedNormal.__init__ (from tensorflow.python.ops.init_ops) with dtype is deprecated and will be removed in a future version.\n",
      "Instructions for updating:\n",
      "Call initializer instance with the dtype argument instead of passing it to the constructor\n",
      "WARNING:tensorflow:From C:\\Users\\Jimmy\\anaconda3\\lib\\site-packages\\tensorflow\\python\\util\\dispatch.py:1176: calling dropout (from tensorflow.python.ops.nn_ops) with keep_prob is deprecated and will be removed in a future version.\n",
      "Instructions for updating:\n",
      "Please use `rate` instead of `keep_prob`. Rate should be set to `rate = 1 - keep_prob`.\n"
     ]
    },
    {
     "data": {
      "text/plain": [
       "((1681, 50, 50, 1), 1681)"
      ]
     },
     "execution_count": 8,
     "metadata": {},
     "output_type": "execute_result"
    }
   ],
   "source": [
    "tf.compat.v1.reset_default_graph()\n",
    "conv_input = input_data(shape=[None, IMG_SIZE, IMG_SIZE, 1], name='input')\n",
    "\n",
    "conv1 = conv_2d(conv_input, 32, 5, activation='relu')\n",
    "pool1 = max_pool_2d(conv1, 5)\n",
    "\n",
    "conv2 = conv_2d(pool1, 64, 5, activation='relu')\n",
    "pool2 = max_pool_2d(conv2, 5)\n",
    "\n",
    "conv3 = conv_2d(pool2, 128, 5, activation='relu')\n",
    "pool3 = max_pool_2d(conv3, 5)\n",
    "\n",
    "conv4 = conv_2d(pool3, 64, 5, activation='relu')\n",
    "pool4 = max_pool_2d(conv4, 5)\n",
    "\n",
    "conv5 = conv_2d(pool4, 32, 5, activation='relu')\n",
    "pool5 = max_pool_2d(conv5, 5)\n",
    "\n",
    "conv6 = conv_2d(pool5, 64, 5, activation='relu')\n",
    "pool6 = max_pool_2d(conv6, 5)\n",
    "\n",
    "conv7 = conv_2d(pool6, 128, 5, activation='relu')\n",
    "pool7 = max_pool_2d(conv7, 5)\n",
    "\n",
    "conv8 = conv_2d(pool7, 64, 5, activation='relu')\n",
    "pool8 = max_pool_2d(conv8, 5)\n",
    "\n",
    "conv9 = conv_2d(pool8, 32, 5, activation='relu')\n",
    "pool9 = max_pool_2d(conv9, 5)\n",
    "\n",
    "fully_layer = fully_connected(pool9, 1024, activation='relu')\n",
    "fully_layer = dropout(fully_layer, 0.5)\n",
    "\n",
    "cnn_layers = fully_connected(fully_layer, 6, activation='softmax')\n",
    "\n",
    "cnn_layers = regression(cnn_layers, optimizer='adam', learning_rate=LR, loss='categorical_crossentropy', name='targets')\n",
    "model = tflearn.DNN(cnn_layers, tensorboard_dir='log', tensorboard_verbose=3)\n",
    "X_train.shape,len(y_train)"
   ]
  },
  {
   "cell_type": "code",
   "execution_count": 9,
   "id": "c3e6a8ca",
   "metadata": {},
   "outputs": [
    {
     "name": "stdout",
     "output_type": "stream",
     "text": [
      "Training Step: 2699  | total loss: \u001b[1m\u001b[32m0.06273\u001b[0m\u001b[0m | time: 10.284s\n",
      "| Adam | epoch: 100 | loss: 0.06273 - acc: 0.9851 -- iter: 1664/1681\n",
      "Training Step: 2700  | total loss: \u001b[1m\u001b[32m0.06382\u001b[0m\u001b[0m | time: 11.760s\n",
      "| Adam | epoch: 100 | loss: 0.06382 - acc: 0.9834 | val_loss: 7.13297 - val_acc: 0.1817 -- iter: 1681/1681\n",
      "--\n",
      "INFO:tensorflow:D:\\Subjects\\1- Deep\\Project\\model.tfl is not in all_model_checkpoint_paths. Manually adding it.\n"
     ]
    }
   ],
   "source": [
    "if (os.path.exists('model.tfl.meta')):\n",
    "    model.load('./model.tfl')\n",
    "else:\n",
    "    try:\n",
    "        early_stopping_cb = EarlyStoppingCallback(val_acc_thresh=0.98)\n",
    "        model.fit({'input': X_train},\n",
    "              {'targets': y_train},\n",
    "              n_epoch=100,\n",
    "              validation_set=({'input': X_test}, {'targets': y_test}),\n",
    "              snapshot_step=500,\n",
    "              show_metric=True,\n",
    "              run_id=MODEL_NAME,\n",
    "              callbacks=early_stopping_cb)\n",
    "    except StopIteration:\n",
    "        print(\"early stopping\")\n",
    "        \n",
    "    model.save('model.tfl')"
   ]
  },
  {
   "cell_type": "code",
   "execution_count": null,
   "id": "c9f9801b",
   "metadata": {},
   "outputs": [],
   "source": [
    "for img_name in os.listdir(TEST_DIR):\n",
    "    img = cv2.imread(TEST_DIR + '/' + img_name,0)\n",
    "    test_img = cv2.resize(img, (IMG_SIZE, IMG_SIZE))\n",
    "    test_img = test_img.reshape(IMG_SIZE, IMG_SIZE, 1)\n",
    "    prediction = model.predict([test_img])[0]\n",
    "    fig = plt.figure(figsize=(10, 10))\n",
    "    ax = fig.add_subplot(111)\n",
    "    ax.imshow(img,cmap='gray')\n",
    "    print(f\"Basketball: {prediction[0]}, Football: {prediction[1]}, Rowing: {prediction[2]}\")\n",
    "    print(f\"Swimming: {prediction[3]}, Tennis: {prediction[4]}, Yoga: {prediction[5]}\")\n",
    "    max_index = np.where(prediction == max(prediction))\n",
    "    print(f\"It is : {categories[max_index]}\")\n",
    "    plt.show()"
   ]
  }
 ],
 "metadata": {
  "kernelspec": {
   "display_name": "Python 3 (ipykernel)",
   "language": "python",
   "name": "python3"
  },
  "language_info": {
   "codemirror_mode": {
    "name": "ipython",
    "version": 3
   },
   "file_extension": ".py",
   "mimetype": "text/x-python",
   "name": "python",
   "nbconvert_exporter": "python",
   "pygments_lexer": "ipython3",
   "version": "3.9.12"
  }
 },
 "nbformat": 4,
 "nbformat_minor": 5
}
